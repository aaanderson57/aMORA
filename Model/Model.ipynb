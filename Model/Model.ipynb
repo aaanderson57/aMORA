{
  "nbformat": 4,
  "nbformat_minor": 0,
  "metadata": {
    "colab": {
      "provenance": []
    },
    "kernelspec": {
      "name": "python3",
      "display_name": "Python 3"
    },
    "language_info": {
      "name": "python"
    }
  },
  "cells": [
    {
      "cell_type": "code",
      "execution_count": null,
      "metadata": {
        "id": "hFlyISSgxhi2"
      },
      "outputs": [],
      "source": [
        "import pandas as pd\n",
        "from sklearn.model_selection import train_test_split\n",
        "import xgboost as xgb\n",
        "from sklearn.preprocessing import OneHotEncoder\n",
        "from sklearn.impute import SimpleImputer\n",
        "from sklearn.metrics import mean_squared_error, r2_score\n",
        "\n",
        "# Carrega o dataset\n",
        "try:\n",
        "    df = pd.read_csv('housing_sp_city.csv', encoding='latin-1')\n",
        "except FileNotFoundError:\n",
        "    print(\"Erro: Arquivo 'housing_sp_city.csv' não encontrado.\")\n",
        "    exit()\n",
        "\n",
        "df['bairro'] = df.bairro.astype('category')\n",
        "df['tipo_imovel'] = df.tipo_imovel.astype('category')\n",
        "\n",
        "# Filtra o DataFrame\n",
        "df_filtered = df[df['tipo_anuncio'] == 'Venda']\n",
        "\n",
        "# Seleciona as features e a variável alvo\n",
        "try:\n",
        "    X = df_filtered[['bairro', 'tipo_imovel', 'quartos', 'banheiros', 'vagas_garagem', 'area_util']]\n",
        "    y = df_filtered['preco_venda']\n",
        "except KeyError as e:\n",
        "    print(f\"Erro: Coluna '{e}' não encontrada no dataset. Verifique o nome das colunas.\")\n",
        "    exit()\n",
        "\n",
        "\n",
        "# Divide os dados em treino e teste\n",
        "X_train, X_test, y_train, y_test = train_test_split(X, y, test_size=0.2, random_state=42)\n",
        "\n",
        "# Inicializa e treina o modelo XGBoost\n",
        "model = xgb.XGBRegressor(objective='reg:squarederror', enable_categorical=True, random_state=42) # Define o objetivo como regressão\n",
        "model.fit(X_train, y_train)\n",
        "\n",
        "# Faz previsões no conjunto de teste\n",
        "y_pred = model.predict(X_test)\n",
        "\n",
        "# Avalia o modelo\n",
        "mse = mean_squared_error(y_test, y_pred)\n",
        "r2 = r2_score(y_test, y_pred)\n",
        "\n",
        "print(f\"Mean Squared Error: {mse}\")\n",
        "print(f\"R-squared: {r2}\")\n",
        "\n",
        "# Save the trained model, encoder, and imputer to pickle files\n",
        "filename_model = 'housing_price_model_xgb.pkl'\n",
        "pickle.dump(model, open(filename_model, 'wb'))"
      ]
    }
  ]
}
